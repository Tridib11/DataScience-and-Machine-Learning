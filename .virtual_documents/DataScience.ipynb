





print("Hello")


a=int(input("Enter a number"))
b=int(input("Enter a number"))
print(a+b)


a=10
print(type(a))
a='abd'
print(type(a))





a=10
print(id(a))
a=a+1
print(id(a))


a=False
if a:
    print("True")
else:
    print("false")


a=10
b=20
if a>b and a==b:
    print("True")
else:
    print("false")





for i in range(0,5):
    for j in range(0,5):
        print("*",end="")
    print()


for i in range(1,6):
    for j in range(1,6):
        print(i,end="")
    print()


for i in range(1,5):
    for j in range(1,5):
        print(j,end="")
    print()


a=int(input("Enter a number"))
for i in range(1,a):
    for j in range(a,0,-1):
        print(j,end="")
    print()


i=0
while(i<10):
    print(i)
    i+=1
else:
    print("This will run only once")


for i in range(0,10,1):
    if i==5:
        break
    print(i)
else:
    print("WOrdk")





n=int(input("Enter a number"))
for i in range(2,n,1):
    if i%n==0:
        break
else:
    print("Prime")


n=int(input("Enter a number"))
for i in range(2,n,1):
    if i==7:
        continue
    print(i)


i=3
if i<7:
    pass






a="abcd efgh"


type(a)



type(a[0])



a[0]='p'



for i in a:
    print(i)


a="this is tridib's pen"


a



a='this is tridib's pen'


a='this is tridib\'s pen'
a


a


print(a)


a="rohan"
b=" and ram"

print(a+b)


a=a+b
print(a)


a==b


a="Ram is a boy"
print(a.split())


a="rohan ,told me he , is gonna , go to school, tomorrow"
a.split(',')


a.split('e')



a.replace('me','i')



a.find("me")


# if cannot find returs -1

a.find("hello")


a.lower()



a.upper()


a.islower()


a.isalpha()



a.startswith("rohan")








a=[1,2,3]
type(a)


a=list([1,2,3])
type(a)



a=[1,2,3]
a


a[0]=4


a



ls=[0 for i in range(0,10)]


ls


mul=[2*i for i in range(1,11)]
mul


a


b=[6,7,8]


a+b


a


a.append(7)


a


a


a.insert(1,99)
a





a+b


a.extend(b)


a





a.remove(3)


a


a.remove(-1)
a


a.pop(0)
a


a.sort()
a


max(a)


a=int(input("Enter the size of the list"))
newList=[]
for i in range (a):
    a=int(input())
    newList.append(a)
print(newList)


line=input()
a=line.split()
a


line=input()
a=line.split()
for i in range (len(a)):
    a[i]=int(a[i])
print(a)


a=['1','2']
l=[int(i) for i in a]
l


l=[int(i) for i in input().split()]
l


l=[int(i) for i in input().split()]
even=0
odd=0
for i in l:
    if i%2==0:
        even+=1
    else:
        odd+=1
print(f"Even is {even} Odd is {odd}")


arr=[int(i) for i in input().split()]
for i in range(0,len(arr)-1,2):
    arr[i],arr[i+1]=arr[i+1],arr[i]
print(arr)





def factorial(n):
    ans=1
    for i in range(1,n+1):
        ans*=i
    return ans
factorial(3)


from math import sqrt
def isPrime(n):
    for i in range(2,round(sqrt(n)+1)):
        if n%i==0:
            return False
        else:
            return True
isPrime(17)


a=16
def change():
    global a
    a=2
    print(a)
print(a)
change()





a=1,2
print(a)
print(type(a))


for i in a :
    print(i)


a[1]


a[-1]


a=(1,2,3,4,5)
print(a[0:3])


a[:]


a[-1:0]


a[0:-1]


a[-1:0:-1]


a


a[0]=4





def calculateSum(a,b,*more):
    print(more)
    print(type(more))
    ans=a+b
    for i in more:
        ans+=i
    return ans
print(calculateSum(1,2,3,4,5,6))




def sum_diff(a,b):
    return a+b,a-b
sum_diff(3,2)



def sum_diff(a,b):
    return a+b,a-b
a,b=sum_diff(3,2)
print(a,b)


a


b





a={"the":1,"a":2,"the":3}



a


type(a)


a["the"]


a["a"]



c=dict([("the",3),("is",1)])


c


len(c)


s="today is a good is a time to get out today"
splited=s.split(" ")
print(splited)



d={}
for i in splited:
    d[i]=d.get(i,0)+1
d


d


for i in d:
    if d[i]==2:
        print(i)





s=set()


def sumofUnique(l):
    for i in l:
        s.add(i)
    sum=0
    for i in s:
        sum+=i
    return sum


sumofUnique([1,2,3,2,4,5,3,9])





class Student:
    name="Karam"
s1=Student()
print(s1)
print(s1.name)


class Car:
    color="blue"
    brand="mercedes"
car1=Car()
print(car1.color)
print(car1.brand)








# class Testing:
#     def __init__():
#         print("Init function invoked")
# test1=Testing()


class Testing:
    def __init__(self):
        print(self)#test1 object at this location
        print("Init constructor invoked")
test1=Testing()



print(test1)


class Student:
    def __init__(self,fullName):
        self.name=fullName
        print("Init constructor invoked")
s1=Student("Karan")
s2=Student("Arjun")
print(s1)
print(s1.name)
print(s2)
print(s2.name)


class Student1:
    def __init__(self,name,marks):
        self.name=name
        self.marks=marks
        print("Init constructor invoked")
s1=Student1("Karan",90)
s2=Student1("Arjun",92)
print(s1)
print(s1.name,s1.marks)
print(s2)
print(s2.name,s2.marks)





class Student3:
    collegeName="SRM"
    def __init__(self,name,marks):
        self.name=name
        self.marks=marks
        print("Init constructor invoked")
s1=Student3("Karan",90)
s2=Student3("Arjun",92)
print(s1)
print(s1.name,s1.marks,s1.collegeName)
print(s2)
print(s2.name,s2.marks,s2.collegeName)


class Student4:
    collegeName="SRM"
    name="Aninymous"
    def __init__(self,name,marks):
        self.name=name
        self.marks=marks
        print("Init constructor invoked")
s1=Student4("Karan",90) ##object atr > class atr
s2=Student4("Arjun",92)
print(s1)
print(s1.name,s1.marks,s1.collegeName)
print(s2)
print(s2.name,s2.marks,s2.collegeName)


class Student5:
    collegeName="SRM"
    def __init__(self,name,marks):
        self.name=name
        self.marks=marks
        print("Init constructor invoked")
    def welcome(self):
        print("Welcome student",self.name)
    def get_marks(self):
        print(self.marks)
s1=Student5("Karan",90) 
print(s1.name,s1.marks,s1.collegeName)

s1.welcome()
s1.get_marks()





class Student:
    def __init__(self,name,marks):
        self.name=name
        self.marks=marks
    def average(self):
        sum=0
        for i in self.marks:
            sum+=i
        print(f"Hi {self.name} Your average marks is {sum/3}")


student=Student("Tony Stark",[30,45,60])
student.average()

#Can be directly changed from here

student.name="Iron man"
student.marks=[90,90,100]
student.average()





class Human:
    def Hello():
        print("Hello")
h1=Human()
print()
h1.Hello()








class Human:
    @staticmethod #decorator
    def Hello():
        print("Hello")
h1=Human()
print()
h1.Hello()



























