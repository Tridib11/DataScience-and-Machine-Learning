





print("Hello")


a=int(input("Enter a number"))
b=int(input("Enter a number"))
print(a+b)


a=10
print(type(a))
a='abd'
print(type(a))





a=10
print(id(a))
a=a+1
print(id(a))


a=False
if a:
    print("True")
else:
    print("false")


a=10
b=20
if a>b and a==b:
    print("True")
else:
    print("false")





for i in range(0,5):
    for j in range(0,5):
        print("*",end="")
    print()


for i in range(1,6):
    for j in range(1,6):
        print(i,end="")
    print()


for i in range(1,5):
    for j in range(1,5):
        print(j,end="")
    print()


a=int(input("Enter a number"))
for i in range(1,a):
    for j in range(a,0,-1):
        print(j,end="")
    print()


i=0
while(i<10):
    print(i)
    i+=1
else:
    print("This will run only once")


for i in range(0,10,1):
    if i==5:
        break
    print(i)
else:
    print("WOrdk")





n=int(input("Enter a number"))
for i in range(2,n,1):
    if i%n==0:
        break
else:
    print("Prime")


n=int(input("Enter a number"))
for i in range(2,n,1):
    if i==7:
        continue
    print(i)


i=3
if i<7:
    pass






a="abcd efgh"


type(a)



type(a[0])



a[0]='p'



for i in a:
    print(i)


a="this is tridib's pen"


a



a='this is tridib's pen'


a='this is tridib\'s pen'
a


a


print(a)


a="rohan"
b=" and ram"

print(a+b)


a=a+b
print(a)


a==b


a="Ram is a boy"
print(a.split())


a="rohan ,told me he , is gonna , go to school, tomorrow"
a.split(',')


a.split('e')



a.replace('me','i')



a.find("me")


# if cannot find returs -1

a.find("hello")


a.lower()



a.upper()


a.islower()


a.isalpha()



a.startswith("rohan")








a=[1,2,3]
type(a)


a=list([1,2,3])
type(a)



a=[1,2,3]
a


a[0]=4


a



ls=[0 for i in range(0,10)]


ls


mul=[2*i for i in range(1,11)]
mul


a


b=[6,7,8]


a+b


a


a.append(7)


a


a


a.insert(1,99)
a





a+b


a.extend(b)


a





a.remove(3)


a


a.remove(-1)
a


a.pop(0)
a


a.sort()
a


max(a)


a=int(input("Enter the size of the list"))
newList=[]
for i in range (a):
    a=int(input())
    newList.append(a)
print(newList)


line=input()
a=line.split()
a


line=input()
a=line.split()
for i in range (len(a)):
    a[i]=int(a[i])
print(a)


a=['1','2']
l=[int(i) for i in a]
l


l=[int(i) for i in input().split()]
l


l=[int(i) for i in input().split()]
even=0
odd=0
for i in l:
    if i%2==0:
        even+=1
    else:
        odd+=1
print(f"Even is {even} Odd is {odd}")


arr=[int(i) for i in input().split()]
for i in range(0,len(arr)-1,2):
    arr[i],arr[i+1]=arr[i+1],arr[i]
print(arr)





def factorial(n):
    ans=1
    for i in range(1,n+1):
        ans*=i
    return ans
factorial(3)


from math import sqrt
def isPrime(n):
    for i in range(2,round(sqrt(n)+1)):
        if n%i==0:
            return False
        else:
            return True
isPrime(17)


a=16
def change():
    global a
    a=2
    print(a)
print(a)
change()
