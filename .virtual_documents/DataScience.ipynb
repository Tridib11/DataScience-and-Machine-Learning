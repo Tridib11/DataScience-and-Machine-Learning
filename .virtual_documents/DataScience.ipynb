





print("Hello")


a=int(input("Enter a number"))
b=int(input("Enter a number"))
print(a+b)


a=10
print(type(a))
a='abd'
print(type(a))





a=10
print(id(a))
a=a+1
print(id(a))


a=False
if a:
    print("True")
else:
    print("false")


a=10
b=20
if a>b and a==b:
    print("True")
else:
    print("false")





for i in range(0,5):
    for j in range(0,5):
        print("*",end="")
    print()


for i in range(1,6):
    for j in range(1,6):
        print(i,end="")
    print()


for i in range(1,5):
    for j in range(1,5):
        print(j,end="")
    print()


a=int(input("Enter a number"))
for i in range(1,a):
    for j in range(a,0,-1):
        print(j,end="")
    print()


i=0
while(i<10):
    print(i)
    i+=1
else:
    print("This will run only once")


for i in range(0,10,1):
    if i==5:
        break
    print(i)
else:
    print("WOrdk")





n=int(input("Enter a number"))
for i in range(2,n,1):
    if i%n==0:
        break
else:
    print("Prime")


n=int(input("Enter a number"))
for i in range(2,n,1):
    if i==7:
        continue
    print(i)


i=3
if i<7:
    pass






a="abcd efgh"


type(a)



type(a[0])



a[0]='p'



for i in a:
    print(i)


a="this is tridib's pen"


a



a='this is tridib's pen'


a='this is tridib\'s pen'
a


a


print(a)


a="rohan"
b=" and ram"

print(a+b)


a=a+b
print(a)


a==b


a="Ram is a boy"
print(a.split())


a="rohan ,told me he , is gonna , go to school, tomorrow"
a.split(',')


a.split('e')



a.replace('me','i')



a.find("me")


# if cannot find returs -1

a.find("hello")


a.lower()



a.upper()


a.islower()


a.isalpha()



a.startswith("rohan")
